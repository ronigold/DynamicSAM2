{
 "cells": [
  {
   "cell_type": "code",
   "execution_count": 1,
   "id": "d66a42d1-89ed-4f15-bb95-ac858be73b0d",
   "metadata": {},
   "outputs": [
    {
     "name": "stderr",
     "output_type": "stream",
     "text": [
      "FutureWarning: Importing from timm.models.layers is deprecated, please import via timm.layers\n",
      "UserWarning: Failed to load custom C++ ops. Running on CPU mode Only!\n"
     ]
    }
   ],
   "source": [
    "import sys\n",
    "import os\n",
    "\n",
    "sys.path.append(os.path.abspath(os.path.join(os.getcwd(), \"..\")))\n",
    "\n",
    "from dynamic_sam2.sam2_video_tracker import Sam2VideoTracker\n",
    "from dynamic_sam2.object_detection import DinoDetectionModel"
   ]
  },
  {
   "cell_type": "code",
   "execution_count": null,
   "id": "0d521d48-4ad0-47c5-bd62-0046a79a38fc",
   "metadata": {},
   "outputs": [
    {
     "name": "stderr",
     "output_type": "stream",
     "text": [
      "UserWarning: torch.meshgrid: in an upcoming release, it will be required to pass the indexing argument. (Triggered internally at ../aten/src/ATen/native/TensorShape.cpp:3595.)\n"
     ]
    },
    {
     "name": "stdout",
     "output_type": "stream",
     "text": [
      "final text_encoder_type: bert-base-uncased\n"
     ]
    },
    {
     "name": "stderr",
     "output_type": "stream",
     "text": [
      "FutureWarning: You are using `torch.load` with `weights_only=False` (the current default value), which uses the default pickle module implicitly. It is possible to construct malicious pickle data which will execute arbitrary code during unpickling (See https://github.com/pytorch/pytorch/blob/main/SECURITY.md#untrusted-models for more details). In a future release, the default value for `weights_only` will be flipped to `True`. This limits the functions that could be executed during unpickling. Arbitrary objects will no longer be allowed to be loaded via this mode unless they are explicitly allowlisted by the user via `torch.serialization.add_safe_globals`. We recommend you start setting `weights_only=True` for any use case where you don't have full control of the loaded file. Please open an issue on GitHub for any issues related to this experimental feature.\n"
     ]
    },
    {
     "name": "stdout",
     "output_type": "stream",
     "text": [
      "Checkpoint path: /home/ubuntu/DynamicSAM2/checkpoints/sam2.1_hiera_large.pt\n"
     ]
    },
    {
     "name": "stderr",
     "output_type": "stream",
     "text": [
      "INFO:Sam2VideoTracker:\n",
      "=== Starting Video Processing ===\n",
      "DEBUG:Sam2VideoTracker:Prepared 25 frames for chunk 0-24\n",
      "INFO:Sam2VideoTracker:Processing chunk: current_frame = 0, chunk_end = 24, frames in chunk = 25\n",
      "UserWarning: torch.utils.checkpoint: the use_reentrant parameter should be passed explicitly. In version 2.5 we will raise an exception if use_reentrant is not passed. use_reentrant=False is recommended, but if you need to preserve the current default behavior, you can pass use_reentrant=True. Refer to docs for more details on the differences between the two variants.\n",
      "UserWarning: None of the inputs have requires_grad=True. Gradients will be None\n",
      "DEBUG:Sam2VideoTracker:Creating masks for 6 boxes\n",
      "UserWarning: Memory efficient kernel not used because: (Triggered internally at ../aten/src/ATen/native/transformers/cuda/sdp_utils.cpp:773.)\n",
      "UserWarning: Memory Efficient attention has been runtime disabled. (Triggered internally at ../aten/src/ATen/native/transformers/sdp_utils_cpp.h:558.)\n",
      "UserWarning: Flash attention kernel not used because: (Triggered internally at ../aten/src/ATen/native/transformers/cuda/sdp_utils.cpp:775.)\n",
      "UserWarning: Expected query, key and value to all be of dtype: {Half, BFloat16}. Got Query dtype: float, Key dtype: float, and Value dtype: float instead. (Triggered internally at ../aten/src/ATen/native/transformers/sdp_utils_cpp.h:100.)\n",
      "UserWarning: CuDNN attention kernel not used because: (Triggered internally at ../aten/src/ATen/native/transformers/cuda/sdp_utils.cpp:777.)\n",
      "UserWarning: Flash Attention kernel failed due to: No available kernel. Aborting execution.\n",
      "Falling back to all available kernels for scaled_dot_product_attention (which may have a slower speed).\n",
      "frame loading (JPEG): 100%|██████████| 25/25 [00:00<00:00, 34.08it/s]\n",
      "propagate in video:  40%|████      | 10/25 [00:04<00:09,  1.64it/s]"
     ]
    }
   ],
   "source": [
    "%%time\n",
    "os.environ['PYTORCH_CUDA_ALLOC_CONF'] = 'expandable_segments:True'\n",
    "\n",
    "dino_model = DinoDetectionModel(\n",
    "    device=\"cuda\",\n",
    "    box_threshold=0.30,\n",
    "    text_threshold=0.25\n",
    ")\n",
    "\n",
    "tracker = Sam2VideoTracker(\n",
    "    video_path=\"../assets/bedroom.mp4\",\n",
    "    text_prompt=\"person <and> pillow <and> bed\",\n",
    "    detection_model=dino_model,\n",
    "    output_dir=\"tracking_results\",\n",
    "    frames_dir=\"temp_frames\",\n",
    "    check_interval=25,\n",
    "    device=\"cuda\",\n",
    "    target_fps=5,\n",
    "    target_resolution=(1280, 720),\n",
    "    save_masks=True\n",
    ")\n",
    "\n",
    "obj = tracker.process_video()"
   ]
  },
  {
   "cell_type": "code",
   "execution_count": null,
   "id": "be07b953-37fa-407f-a747-bb54056a840e",
   "metadata": {},
   "outputs": [],
   "source": [
    "obj.keys()"
   ]
  },
  {
   "cell_type": "code",
   "execution_count": null,
   "id": "9c07fed1-0893-4545-902c-a7deeca1d7fc",
   "metadata": {},
   "outputs": [],
   "source": [
    "obj[1]['frames']"
   ]
  },
  {
   "cell_type": "code",
   "execution_count": null,
   "id": "d7914c15-1db4-4be1-b41d-437e881654eb",
   "metadata": {},
   "outputs": [],
   "source": [
    "obj[1]['class']"
   ]
  }
 ],
 "metadata": {
  "kernelspec": {
   "display_name": "Grounded-Sam2",
   "language": "python",
   "name": "grounded_sam2"
  },
  "language_info": {
   "codemirror_mode": {
    "name": "ipython",
    "version": 3
   },
   "file_extension": ".py",
   "mimetype": "text/x-python",
   "name": "python",
   "nbconvert_exporter": "python",
   "pygments_lexer": "ipython3",
   "version": "3.10.14"
  }
 },
 "nbformat": 4,
 "nbformat_minor": 5
}
